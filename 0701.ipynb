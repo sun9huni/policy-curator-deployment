{
  "nbformat": 4,
  "nbformat_minor": 0,
  "metadata": {
    "colab": {
      "provenance": [],
      "authorship_tag": "ABX9TyN3MyrNUgApfvDTTQFBTwJ7",
      "include_colab_link": true
    },
    "kernelspec": {
      "name": "python3",
      "display_name": "Python 3"
    },
    "language_info": {
      "name": "python"
    }
  },
  "cells": [
    {
      "cell_type": "markdown",
      "metadata": {
        "id": "view-in-github",
        "colab_type": "text"
      },
      "source": [
        "<a href=\"https://colab.research.google.com/github/sun9huni/policy-curator-deployment/blob/main/0701.ipynb\" target=\"_parent\"><img src=\"https://colab.research.google.com/assets/colab-badge.svg\" alt=\"Open In Colab\"/></a>"
      ]
    },
    {
      "cell_type": "code",
      "execution_count": null,
      "metadata": {
        "id": "_MD9fN2dtQwh"
      },
      "outputs": [],
      "source": [
        "import streamlit as st\n",
        "import time\n",
        "\n",
        "# --- Streamlit UI 구성 ---\n",
        "\n",
        "st.set_page_config(page_title=\"정책 큐레이터 (UI)\", page_icon=\"🤖\")\n",
        "st.title(\"🤖 정책 큐레이터 (UI 프로토타입)\")\n",
        "st.caption(\"AI 챗봇의 프런트엔드 화면입니다. 현재 백엔드 로직은 연결되어 있지 않습니다.\")\n",
        "\n",
        "with st.sidebar:\n",
        "    st.header(\"안내\")\n",
        "    st.markdown(\"\"\"\n",
        "    이 앱은 실제 AI가 답변하지 않는 UI 프로토타입입니다.\n",
        "    사용자 인터페이스의 디자인과 흐름을 확인하기 위한 버전입니다.\n",
        "\n",
        "    **배포 안내:**\n",
        "    1. 이 프로젝트를 GitHub에 업로드하세요.\n",
        "    2. Streamlit Cloud에 배포 시, **API 키를 설정할 필요가 없습니다.**\n",
        "    \"\"\")\n",
        "    st.info(\"현재는 고정된 답변만 반환합니다.\")\n",
        "\n",
        "# 세션 상태를 사용하여 대화 기록 저장\n",
        "if \"messages\" not in st.session_state:\n",
        "    st.session_state.messages = [\n",
        "        {\"role\": \"assistant\", \"content\": \"안녕하세요! 어떤 정책이 궁금하신가요? (UI 테스트 메시지)\"}\n",
        "    ]\n",
        "\n",
        "# 이전 대화 기록 표시\n",
        "for message in st.session_state.messages:\n",
        "    with st.chat_message(message[\"role\"]):\n",
        "        st.markdown(message[\"content\"])\n",
        "\n",
        "# 사용자 입력 처리\n",
        "if prompt := st.chat_input(\"여기에 질문을 입력하세요...\"):\n",
        "    # 사용자 메시지를 대화 기록에 추가하고 화면에 표시\n",
        "    st.session_state.messages.append({\"role\": \"user\", \"content\": prompt})\n",
        "    with st.chat_message(\"user\"):\n",
        "        st.markdown(prompt)\n",
        "\n",
        "    # 봇의 답변을 시뮬레이션\n",
        "    with st.chat_message(\"assistant\"):\n",
        "        message_placeholder = st.empty()\n",
        "        # 타이핑 효과를 위한 간단한 지연\n",
        "        time.sleep(0.5)\n",
        "\n",
        "        # 고정된 답변\n",
        "        full_response = \"현재는 프런트엔드 UI만 구현된 상태입니다. 실제 답변 기능은 연결되지 않았습니다.\"\n",
        "        message_placeholder.markdown(full_response)\n",
        "\n",
        "    # 시뮬레이션된 봇 답변을 대화 기록에 추가\n",
        "    st.session_state.messages.append({\"role\": \"assistant\", \"content\": full_response})"
      ]
    }
  ]
}